{
  "cells": [
    {
      "metadata": {},
      "cell_type": "markdown",
      "source": "# 1. The File object\n\n> In Python, like everything else Files are also considered objects.\n\n> Just like objects in general, files have attributes and methods provided by the Python Standard Library\n\n> Python provides a function called open() which takes a file name as input and creates a file object\n\n\n**Usage**\n\n```python\n#f is the file object created by the open function\n\nf = open('fileName')\n\n```\n\n**Sample File Object Attributes**\n\n> ```name``` : Returns the name of the file\n\n> ```mode``` : File open mode\n\n> ```closed``` : Returns true is file is closed\n\n\n**Sample File Object Methods**\n\n> ```read(size)``` : Read the file, size is the number in bytes that can be read\n\n> ```close``` : Close the file\n\n> ```write(string)``` : Write the string to the file"
    },
    {
      "metadata": {
        "trusted": true
      },
      "cell_type": "code",
      "source": "#Create a new file in Jupyter and name it testFile.txt\n#To create a new file go to the project page, click New->Text File, type some random text and save as testFile.txt\n\n#Create a file object f\nf = open('testFile.txt')\n\n#Print the attribute name of f\nprint(f.name)",
      "execution_count": null,
      "outputs": []
    },
    {
      "metadata": {},
      "cell_type": "markdown",
      "source": "**Full Usage**\n\n```python\n\n#f is the file object created by the open function\n\nf = open('fileName','Mode',Buffering)\n\n\n```\n\n\n> fileName : This is the File Name to be opened. Also accepts the full system path of the file ( ex : C:/Users/file.txt)\n\n> Mode : Optional. This tells python the type of operations that will be done on the file. Example : r for reading a file, w for writing to a file. Defaults to r\n\n> Bufferng : Optional, The file is buffered to the given value. If it is 1, every line is buffered, negative value uses system default and anything else is size buffered in bytes.\n\n\n\n**Common Modes ( lowercase )**\n\n> r : Read Only\n\n> w : Writing a file only\n\n> rb : read only in binary format\n\n> r+ : read and write\n\n> r+ : write and read. Overwrites if file exists, creates if it doesn’t\n\n> a : Append ( add to the end of file )\n\n> rb+ : read and write in binary format\n\n> wb : write in binary format"
    },
    {
      "metadata": {
        "trusted": true
      },
      "cell_type": "code",
      "source": "#Create a new file in PyCharm(New File not Python File ) and name it testFile.txt\n\n#Create a file object f\nf = open('testFile.txt','r+',1)\n\n#Print the attribute name of f\nprint(f.name)\n\n#Print the attribute mode\nprint(f.mode)",
      "execution_count": null,
      "outputs": []
    },
    {
      "metadata": {},
      "cell_type": "markdown",
      "source": "# 2. Reading Files\n\n\n> Files have to be opened in a mode which supports reading ( ex : r, r+,w+)\n\n> The file object has a few different methods for reading the content of the file\n\n> ```read()``` : Returns the entire file as a string\n\n> ```read(n)``` : Returns the first n bytes of the file\n\n> ```readline()``` : Returns a single line of the file as a string\n\n> ```readlines()``` : returns all the lines as a list\n\n\n**Full Usage**\n\n```python\n\n#f is the file object created by the open function\nf = open('fileName','Mode')\n\n# Returns the entire file as a string\nf.read()\n\n#Returns the first n bytes of the file\nf.read(n)\n\n#Returns a single line of the file as a string\nf.readline()\n\n# returns all the lines as a list\nf.readlines()\n\n\n```"
    },
    {
      "metadata": {
        "trusted": true
      },
      "cell_type": "code",
      "source": "#Example\n#Open the testFile.txt and type a few lines of text and save it\n\n#Open testFile.txt in read only mode\nf = open('testFile.txt','r')\n\n#Print the file Name\nprint(f.name)\n\n#Read and print the entire file content\nprint(f.read())",
      "execution_count": null,
      "outputs": []
    },
    {
      "metadata": {
        "trusted": true
      },
      "cell_type": "code",
      "source": "#Example\n#Open testFile.txt in read only mode\nf = open('testFile.txt','r')\n\n#Read and print the 1st line\nprint(f.readline())\n\n#Read and print the 2nd line\nprint(f.readline())\n\n#Read and print the 3rd line\nprint(f.readline())",
      "execution_count": null,
      "outputs": []
    },
    {
      "metadata": {
        "trusted": true
      },
      "cell_type": "code",
      "source": "#Example\n#Open testFile.txt in read only mode\nf = open('testFile.txt','r')\n\n#Read and print all lines as list\nprint(f.readlines())",
      "execution_count": null,
      "outputs": []
    },
    {
      "metadata": {
        "trusted": true
      },
      "cell_type": "code",
      "source": "#Example\n#Open testFile.txt in read only mode\nf = open('testFile.txt','r')\n\n#Python provides an iterator for file which makes it easy to read lines in a loop\nfor line in f:\n    print(line)",
      "execution_count": null,
      "outputs": []
    },
    {
      "metadata": {},
      "cell_type": "markdown",
      "source": "# 3. Writing To Files\n\n\n> Files have to be opened in a mode which supports writing( ex : w, r+,w+)\n\n> The file object has a few different methods for writing a string to the file\n\n> ```write('string')``` : Writes the entire string to the file\n\n> ```writelines(List)``` : Writes the Strings in a List to a file\n\n\n**Full Usage**\n\n```python\n\n#f is the file object created by the open function\nf = open('fileName','Mode')\n\n#Some string which has to written to fileName\nfileContent = 'Some String'\n\nstringList = ['String1', 'String2', 'String3']\n\n# Write fileContent to file\nf.write(fileContent)\n\n#Write the strings in the list stringList to fileName\nf.writelines(stringList)\n\n```"
    },
    {
      "metadata": {
        "trusted": true
      },
      "cell_type": "code",
      "source": "#Example\n#Open testFile2.txt in write mode, overwrite if exists, create if doesnt exists\nf = open('testFile1.txt','w')\n\n#String to be written in the new file\nfileContent = 'This is a test file'\n\n#Write fileContent to the file\nf.write(fileContent)",
      "execution_count": null,
      "outputs": []
    },
    {
      "metadata": {
        "trusted": true
      },
      "cell_type": "code",
      "source": "#Example\n#Open testFile2.txt in write mode, overwrite if exists, create if doesnt exist\nf = open('testFile1.txt','w')\n\n#String to be written in the new file, \\n creates a new line\nstring1 = 'This is 1st line\\n'\nstring2 = 'This is a 2nd line\\n'\nstring3 = 'This is 3rd Line\\n'\n\n#Create a list of string1, string2, string3\nstringList = [string1,string2,string3]\n\n#Write list of strings in stringList to the file\nf.writelines(stringList)",
      "execution_count": null,
      "outputs": []
    },
    {
      "metadata": {
        "trusted": true
      },
      "cell_type": "code",
      "source": "#Example\n#Open testFile2.txt in write mode, overwrite if exists, create if doesnt exist\u000b\nf = open('testFile1.txt','a')\n\n#String to be written in the new file, \\n creates a new line\u000b\nstring1 = 'This will be added to the end of the file'\n\n#Write to the file\nf.write(string1)\n",
      "execution_count": null,
      "outputs": []
    },
    {
      "metadata": {},
      "cell_type": "markdown",
      "source": "# 4. Other File methods\n\n**Closing Files**\n\n> It’s a good practice to always close a file after you are done working with it\n\n> ```close()``` : The close method of the file object is used to close an open file connection\n\n> After you use the close method on a file object any further attempts to read or write the file will fail"
    },
    {
      "metadata": {
        "trusted": true
      },
      "cell_type": "code",
      "source": "#Example\n#Open testFile2.txt in write mode, overwrite if exists, create if doesnt exist\nf = open('testFile1.txt','a')\n\n#String to be written in the new file, \\n creates a new line\nstring1 = 'This will be added to the end of the file'\n\n#Write to the file\nprint(f.write(string1))\n\n#Closing the file connection\nf.close()\n\n#The file read will fail with Value Error\nprint(f.read())",
      "execution_count": null,
      "outputs": []
    },
    {
      "metadata": {},
      "cell_type": "markdown",
      "source": "**Seek**\n\n> The seek file method can be used to instruct python to go to a certain position in the file.\n\n> Any subsequent read or write operations will be done starting from the position you specified in the seek method\n\n\n**Usage**\n\n```python\nf.seek(postion, starting_point)\n\n```\n\n> Position : The position to seek to ( in bytes ).\n\n> Starting_point : Optional, This can be 0,1 or 2. 0 to start from the beginning, 1 to use current position and 2 to start from the end. Defaults to 0. The file has to be opened in binary format ( using b ) to be able to seek from the end.\n\n> Use negative numbers to seek to the left(reverse)"
    },
    {
      "metadata": {
        "trusted": true
      },
      "cell_type": "code",
      "source": "#Example\n#Open a file for reading\nf = open('testFile1.txt','r')\n\n#Go to 10th byte from the start of the file\nf.seek(10,0)\n\n#This would print the file from position 10 to the end\nprint(f.read())\n\n#Go to the 30th byte from the start of the Document\nf.seek(30,0)\n\n\nprint(f.read())",
      "execution_count": null,
      "outputs": []
    },
    {
      "metadata": {},
      "cell_type": "markdown",
      "source": "**Tell**\n\n> The tell method is used to determine what position in the file python is currently working at\n\n> Any subsequent read or write operations will be done starting from the position you specified in the seek method\n\n\n**Usage**\n```python\nf.tell()\n\n```"
    },
    {
      "metadata": {
        "trusted": true
      },
      "cell_type": "code",
      "source": "#Example\n#Open a file for reading\nf = open('testFile1.txt','rb')\n\n#Go to 10th byte from the start of the file\nf.seek(10,0)\n\n#Print the current position, which is 10 after the seek\nprint(f.tell())\n\n#Go to the 10th byte from the end of the document\nf.seek(-10,2)\n\n#This will return the current position, which is total bytes - 10 after the previous seek\nprint(f.tell())",
      "execution_count": null,
      "outputs": []
    },
    {
      "metadata": {},
      "cell_type": "markdown",
      "source": "# 5. Functional Programming\n\n> Object Oriented Programming exclusively uses classes to build programs\n\n> Functional programming is an another way to write code.\n\n> Python supports Functional programming in addition to Object Oriented\n\n> In Functional Programming, the code logic is written around Functions\n\n> The basic characteristic of a function in functional programming is that it does not change data that exists outside of the function. ( i,e Functions are not dependent or coupled with any data outside the functions )\n\n> Functions in functional programming are stateless\n\n**Non-Functional approach**\n\n```python\n#Variable a defined outside the function\na = 5\n\n#Function to add two numbers, one of the numbers a is defined outside the function\ndef sum(b):\n  return a+b\n\n#Call the sum function\nsum(4)\n```\n\n**Functional approach**\n\n```python\n\ndef sum(a,b):\n  return a+b\n\n#Call the sum function\nsum(5,4)\n```"
    },
    {
      "metadata": {},
      "cell_type": "markdown",
      "source": "# Lambdas\n\n> lambda expressions can be used to write functions instead of the def keyword\n\n> Lambda expression starts with the keyword lambda and immediately declares the input arguments then a colon followed by the return statement without explicitly writing return\n\n> The return statement can only be one expression\n\n> Lambda functions can be assigned and used as a variable\n\n> They are also referred to as anonymous functions\n\n> Lambda functions can be passed as arguments to other functions\n\n**usage**\n\n```Python\n\nlambda inputs : expression\n\n```"
    },
    {
      "metadata": {
        "trusted": true
      },
      "cell_type": "code",
      "source": "#Example of a regular function using def\n\n#Define a function sum to add two numbers a and b\ndef sum(a,b):\n  return a+b\n\n#Call the function Summer\nc = sum(4,5)\nprint(c)",
      "execution_count": null,
      "outputs": []
    },
    {
      "metadata": {
        "trusted": true
      },
      "cell_type": "code",
      "source": "#The same example using Lambda expression\n\nsum = lambda a,b : a+b\n\nc = sum(4,5)\nprint(c)",
      "execution_count": null,
      "outputs": []
    },
    {
      "metadata": {},
      "cell_type": "markdown",
      "source": "# Map, Filter & Reduce\n\n# 6.Map\n\n> Map is a built-in function which accepts one or more iterable data type ( list, tuple etc..) and a function as input arguments/parameters\n\n> It applies the function passed to every element of the given iterable and returns a new list with the new values\n\n> For Example : There is a list of 5 numbers and a function 'a' which takes a number and multiplies it by 10.\n> If you pass them both to a map, the function a is applied to every item in the list resulting in a new list with the new values  \n\n**Usage**\n\n```Python\nmap(function, iterable)\n```"
    },
    {
      "metadata": {
        "trusted": true
      },
      "cell_type": "code",
      "source": "#Example\n#Defining a list A\nlistA = [1,2,3,4,5]\n\nprint(listA)\n\n#Defining the functionA\ndef functionA(n):\n  return n * 10\n\n\n#Applying the map function\nmapA = map(functionA, listA)\n\n#Converting the map object into a list\nnewListA = list(mapA)\n\n#Printing the new list\nprint(newListA)",
      "execution_count": null,
      "outputs": []
    },
    {
      "metadata": {
        "trusted": true
      },
      "cell_type": "code",
      "source": "#Example using Lambda\n#Defining a list A\nlistA = [1,2,3,4,5]\n\nprint(listA)\n\n#Using the lambda function in map\nmapA = map(lambda x : x*10, listA)\n\n#Converting the map object into a list\nnewListA = list(mapA)\n\n#Printing the new list\nprint(newListA)",
      "execution_count": null,
      "outputs": []
    },
    {
      "metadata": {
        "trusted": true
      },
      "cell_type": "code",
      "source": "# Example with multiple lists\n\n\n#Defining a list A\nlistA = [1,2,3,4,5]\n\nlistB = [1,2,3,4,5]\n\nprint('List A : ', listA)\n\nprint('List B :', listB)\n\n#Applying the map function\nmapA = map(lambda x,y : x*y, listA, listB)\n\n#Converting the map object into a list\nnewListA = list(mapA)\n\n#Printing the new list\nprint(newListA)",
      "execution_count": null,
      "outputs": []
    },
    {
      "metadata": {},
      "cell_type": "markdown",
      "source": "# Filter\n\n> The Filter function accepts a function and an iterable ( just one unlike map)\n\n> The function which is passed to filter has to return a boolean ( True or False)\n\n> Filter applies the function passed to every item in an iterable and returns a new list with only the items which returned true\n\n\n**Usage**\n\n```Python\nfilter(function, iterable)\n```"
    },
    {
      "metadata": {
        "trusted": true
      },
      "cell_type": "code",
      "source": "#Example\n#Define a list of numbers\nlistA = [1,21,12,4,11]\n\n#Define a function which returns true if the number passed is greater than 10\ndef functionA(n):\n    return (n > 10)\n\n#Pass function A and listA to the filter\nfilterA = filter(functionA, listA)\n\n#Convert filter object into a list\nnewListA = list(filterA)\n\n\n#Print the new list, only numbers greater than 10 will appear in the result\nprint(newListA)",
      "execution_count": null,
      "outputs": []
    },
    {
      "metadata": {
        "trusted": true
      },
      "cell_type": "code",
      "source": "#Example uing Lambda\n#Define a list of numbers\nlistA = [1,21,12,4,11]\n\n#Use Lambda function to filter\nnewListA = list(filter(lambda x:x>10, listA))\n\n#Print the new list, only numbers greater than 10 will appear in the result\nprint(newListA)",
      "execution_count": null,
      "outputs": []
    },
    {
      "metadata": {},
      "cell_type": "markdown",
      "source": "# Reduce\n\n> Reduce accepts a function and a iterable as the input arguments\n\n> It reduces or converts the given iterable(list) into a single value\n\n> The passed function should accept 2 arguments and return a single value\n\n> The function which is passed is applied to the first 2 elements in the given list resulting in a single output, the function is again applied to the output from the previous operation and the next item in the list. This process is repeated until there is only 1 item remaining\n\n> The reduce function is available in the functools built in module. ```from functools import reduce``` imports the function into the current file.\n\n\n![alt text](https://github.com/soulzcore/iacc_python_2018/raw/master/week3/images/filter.png \"Filter Function\")\n\n\n\n**Usage**\n\n```Python\n\nreduce(function, iterable)\n\n```"
    },
    {
      "metadata": {
        "trusted": true
      },
      "cell_type": "code",
      "source": "#Example\n#Import the reduce function from functools module\nfrom functools import reduce\n\n#Define a list of numbers\nlistA = [1,2,3,4]\n\n#Define a function to add 2 numbers\ndef functionA(x,y):\n    return x+y\n\n#Pass functionA and listA to reduce\nreduceA = reduce(functionA,listA)\n\n#Print the result\nprint(reduceA)",
      "execution_count": null,
      "outputs": []
    },
    {
      "metadata": {
        "trusted": true
      },
      "cell_type": "code",
      "source": "#Example using lambda\n#Import the reduce function from functools module\nfrom functools import reduce\n\n#Define a list of numbers\nlistA = [1,2,3,4]\n\n#Reduce listA using a lambda function\nprint(reduce(lambda x,y : x+y,listA))",
      "execution_count": null,
      "outputs": []
    },
    {
      "metadata": {},
      "cell_type": "markdown",
      "source": "# 7. Data Manipulation & Analysis\n\n# Pandas\n\n> Pandas is a python library or package commonly used for data analysis and manipulation\n\n> It is extremely powerful and flexible\n\n> It is being widely adopted in the Data Engineering and Data Science community\n\n> Pandas add support to different data types, some common types are:\n> * Tabular data\n> * Time series data\n> * Matrices\n\n> Pandas support reading and writing to text, csv, excel, sql databases etc…\n\n> Pandas is extremely fast and optimized for performance\n\n> Pandas is built on top of NumPy – Scientific computing package for Python\n\n> Pandas introduce three new data structures\n> * Series – One dimensional arrays ( think lists )\n> * Data Frames – 2 dimensional data structure  ( Think tables or excel spreadsheets with rows and columns ).\n> * Panels – 3 dimensional data structure\n\n**Installation**\n\n> Install pandas from pypi by running the following command in command prompt or console :\n\n```python\npip install pandas\n\n```\n\n> or in Jupyter by running the command\n\n```python\n!pip install pandas\n\n```\n\n# Series\n\n> Series are one dimensional arrays ( ndarrays )\n\n> Ndarrays are multi dimensional data structures defined by numpy – the framework pandas are built on\n\n> Series can be created from lists, dicts , by passing values etc..\n\n> Series consist of an Index and the data\n\n> Index can be pre defined, added later, changed or defaulted to a sequence of numbers\n\n![alt text](https://github.com/soulzcore/iacc_python_2018/raw/master/week4/images/series.png \"Pandas Series\")"
    },
    {
      "metadata": {
        "trusted": true
      },
      "cell_type": "code",
      "source": "!pip install pandas",
      "execution_count": null,
      "outputs": []
    },
    {
      "metadata": {
        "trusted": true
      },
      "cell_type": "code",
      "source": "#Series Example\n#import the pandas module\nimport pandas as pd\n\n#Create a list of numbers\nlistOfNumbers = [1,3,5,7,9,0]\n\n\n#Create a series from the list by applying an index ( by using the series class from the module )\ndf = pd.Series(listOfNumbers, index=['a','e','i','o','u','z'])\n\n#print the series\nprint(df)",
      "execution_count": null,
      "outputs": []
    },
    {
      "metadata": {
        "trusted": true
      },
      "cell_type": "code",
      "source": "#Example\n#import the pandas module\nimport pandas as pd\n\n#Create a list of numbers\nlistOfNumbers = [1,3,5,7,9,0]\n\n\n#Create a series from the list by applying an index ( by using the series class from the module )\ndf = pd.Series(listOfNumbers, index=['a','e','i','o','u','z'])\n\n#print the series\nprint(df)\n\n\n#Call the sort_values methid to sort the series\nprint(df.sort_values())\n\n#Print the value with the row index i\nprint(df['i'])\n\n#Print the value with the row index u\nprint(df['u'])\n",
      "execution_count": null,
      "outputs": []
    },
    {
      "metadata": {},
      "cell_type": "markdown",
      "source": "**Sample Attributes**\n\n> shape – Returns a tuple of number of rows and columns\n\n> size – Returns the number of items in the Series\n\n> values – Returns the series as an ndarray ( list like )\n\n\n\n**Sample Methods**\n\n> describe() – Generates descriptive statistics like count, mean, percentiles etc.\n\n> head(n) – Return first n rows\n\n> tail(n) – Return last n rows\n\n> groupby() – groups values by key\n\n> max() – return max value\n\n> min() – return the minimum value\n\n\n\n# Data Frames\n\n\n> Data Frames are 2 dimensional ndarrays\n\n> Think of it as a table, spreadsheet or a matrix\n\n> Dataframes can be created from multiple series, arrays, dicts, lists, csv files, database tables etc\n\n> Dataframes consist of the data, index and multiple columns\n\n> Index can be pre defined, added later, changed or defaulted to a sequence of numbers\n\n\n\n![alt text](https://github.com/soulzcore/iacc_python_2018/raw/master/week4/images/dataframes.png \"Dataframes\")\n\n\n![alt text](https://github.com/soulzcore/iacc_python_2018/raw/master/week4/images/dataframes1.png \"Dataframes\")"
    },
    {
      "metadata": {
        "trusted": true
      },
      "cell_type": "code",
      "source": "#Example\n\nimport pandas as pd\n\n#Create a dict of lists, numbers and words are keys\nd = {\n    'numbers' : [4, 2, 1, 19],\n     'words' : ['a', 'f', 'c', 'z']\n     }\n\n#Create a dataframe from d\ndf = pd.DataFrame(d)\n\n#Print the dataframe\nprint(df)\n",
      "execution_count": null,
      "outputs": []
    },
    {
      "metadata": {
        "trusted": true
      },
      "cell_type": "code",
      "source": "#Example\nimport pandas as pd\n\n#Create a dict of lists, numbers and words are keys\nd = {\n    'numbers' : [4, 2, 1, 19],\n     'words' : ['a', 'f', 'c', 'z']\n     }\n\n#Create a dataframe from d\ndf = pd.DataFrame(d)\n\n#Print the dataframe\nprint(df)\n\n#Sort the dataframe by the words column\nprint(df.sort_values(by='words'))\n\n#Sort by the numbers column in descending order\nprint(df.sort_values(by='numbers',ascending=False))\n\n#Print the number or rows and columns\nprint(df.shape)\n\n#Print descriptive statistics\nprint(df.describe())",
      "execution_count": null,
      "outputs": []
    },
    {
      "metadata": {},
      "cell_type": "markdown",
      "source": "**Sample Attributes**\n\n> shape – Returns a tuple of number of rows and columns\n\n> size – Returns the number of items in the Series\n\n> values – Returns the series as an ndarray ( list like )\n\n\n**Sample Methods**\n\n> describe() – Generates descriptive statistics like count, mean, percentiles etc.\n\n> head(n) – Return first n rows\n\n> tail(n) – Return last n rows\n\n> groupby() – groups values by key\n\n> max() – return max value\n\n> min() – return the minimum value"
    },
    {
      "metadata": {},
      "cell_type": "markdown",
      "source": "# 8. USE CASE – DALLAS CITY CRIME ANALYSIS\n\n\n**Dataset details**\n\n> The Dallas police incidents is a publicly available dataset which has incident reports from 2014 to 2017\n\n> The Dataset can be downloaded in csv format from : https://www.dallasopendata.com/api/views/qv6i-rri7/rows.csv?accessType=DOWNLOAD\n\n> The Metadata can be found at https://www.dallasopendata.com/Public-Safety/Police-Incidents/qv6i-rri7\n\n\n**Questions**\n\n> Find the number of rows and columns in the dataset\n\n> Find the top 5 offences reported and their count\n\n> Find the average time taken to send a dispatch after receiving the incident report\n\n> Find the top 5 longest dispatch times ( time between receiving a call and sending out a dispatch )\n\n> Find the 10%, 25%, 50% and 80% percentile of dispatch times"
    },
    {
      "metadata": {
        "trusted": true
      },
      "cell_type": "code",
      "source": "#Download file using urllib\nimport urllib.request\n\n\nprint('Starting Download.')\n\nurl = 'https://www.dallasopendata.com/api/views/qv6i-rri7/rows.csv?accessType=DOWNLOAD'\nurllib.request.urlretrieve(url, 'dallas_crime.csv')\n\nprint('Download Complete')",
      "execution_count": null,
      "outputs": []
    },
    {
      "metadata": {
        "trusted": true
      },
      "cell_type": "code",
      "source": "#Solution\nimport pandas as pd\n\n# Create a variable with the csv filename we would like to analyze\nfilename = 'dallas_crime.csv'\n\n# Create a data frame from the csv file\ndf = pd.read_csv(filename,header=0, index_col = False)\n\n\n# Print All columns in the csv file as list\nprint(df.columns.values.tolist())\n\n\n\n# Create a new dataframe df1 from selected columns of interest from the original df\ndf1 =  df[['Year of Incident','Type of Incident','Call (911) Problem','Type  Location','Type of Property','Incident Address','Zip Code','City','State','Date of Report','UCR Offense Name','Call Received Date Time','Call Dispatch Date Time']]\n\n\n# Number of columns in the new dataframedf1\nprint('Number of Columns : ' , len(df1.columns))\n\n\n# Print All columns as list in df1\nprint(df1.columns.values.tolist())\n\n\n# Number of rows in df1\nprint('Number of rows :' , len(df1))\n\n# Print default metrics of df1\nprint(df1.describe())\n\n# type function can be used to determine the datatype. It should be dataframe\nprint(type(df1))\n\n\n\n# Find all unique incidents in the dataset\nincident_types = df1['UCR Offense Name'].unique()\n\n# Number of Unique type of incidents\nprint('Number of unique incident types', len(incident_types))\n\n\n# Create a new dataframe inc_group by Grouping incidents and calculating the number or size of each type of incident, rename the index to count\ninc_group =  df1.groupby('UCR Offense Name').size().reset_index(name='count')\n\n\n# Sort the new dataframe in descending order, highest number incidents first\ninc_group = inc_group.sort_values('count', ascending=False)\n\n\n# Print the top 5 incidents\nprint('\\n\\n------ The Top 5 incidents ----- \\n\\n')\nprint(inc_group.head(5))\n\n\n# Create a new column  from the Call Received time column of df1 and convert strings into DateTime object\ndf1['Call Received Date Time'] = pd.to_datetime(df1['Call Received Date Time'])\n\n\n\n\n# Create a new column from the Call Dispatch time column of df1 and convert strings into DateTime object\ndf1['Call Dispatch Date Time'] = pd.to_datetime(df1['Call Dispatch Date Time'])\n\n\n# Calculate time between call received and call dispatched, this will be in days\ndf1['Time to Dispatch'] = (df1['Call Dispatch Date Time'] - df1['Call Received Date Time'])\n\n\n# Convert the time to dispatch column into hours, sort and save it as a new series\ntime_to_dispatch =  df1['Time to Dispatch'].apply(lambda x: x.total_seconds()/60.0 / 60.0).sort_values(ascending=False)\n\n\n# Print the longest 5 dispatch times\nprint('\\n\\n------ The 5 longest dispatch times are ----- \\n\\n')\nprint(time_to_dispatch.head(5))\n\n\n# Print descriptive statics with the top 10%, 25%, 50% and 80% percentiles\nprint('\\n\\n------ Descriptive statistics with the top 10, 25, 50 and 80 percentiles ----- \\n\\n')\nprint(time_to_dispatch.describe(percentiles = [.10, .25, .50, .80]))",
      "execution_count": null,
      "outputs": []
    },
    {
      "metadata": {
        "trusted": true
      },
      "cell_type": "code",
      "source": "",
      "execution_count": null,
      "outputs": []
    }
  ],
  "metadata": {
    "kernelspec": {
      "name": "python36",
      "display_name": "Python 3.6",
      "language": "python"
    },
    "language_info": {
      "mimetype": "text/x-python",
      "nbconvert_exporter": "python",
      "name": "python",
      "pygments_lexer": "ipython3",
      "version": "3.6.6",
      "file_extension": ".py",
      "codemirror_mode": {
        "version": 3,
        "name": "ipython"
      }
    }
  },
  "nbformat": 4,
  "nbformat_minor": 1
}