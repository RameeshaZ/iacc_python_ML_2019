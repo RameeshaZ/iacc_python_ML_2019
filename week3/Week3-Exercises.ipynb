{
  "cells": [
    {
      "metadata": {},
      "cell_type": "markdown",
      "source": "\n# Exercises\n\n1. **Write a program to create a new file named \"newFile.txt\" and write atleast 5 lines of text.\nRead the \"newFile.txt\" and copy the contents of the file into another file named \"copyOfnewFile.txt\"**\n\n\n\n2. **Download the file from the following URL to your computer : http://media.pearsoncmg.com/bc/bc_production/media_development/media_manager_ircd_cdroms/MM_readme.txt\nWrite a program to read the file and count the number of words in the file.**"
    },
    {
      "metadata": {
        "trusted": true
      },
      "cell_type": "code",
      "source": "",
      "execution_count": null,
      "outputs": []
    }
  ],
  "metadata": {
    "kernelspec": {
      "name": "python36",
      "display_name": "Python 3.6",
      "language": "python"
    },
    "language_info": {
      "mimetype": "text/x-python",
      "nbconvert_exporter": "python",
      "name": "python",
      "pygments_lexer": "ipython3",
      "version": "3.6.6",
      "file_extension": ".py",
      "codemirror_mode": {
        "version": 3,
        "name": "ipython"
      }
    }
  },
  "nbformat": 4,
  "nbformat_minor": 1
}