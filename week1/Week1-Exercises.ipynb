{
  "cells": [
    {
      "metadata": {},
      "cell_type": "markdown",
      "source": "# Hands On Exercises\n\n\n1. *Write a program to determine if a given number say 5 is odd or even*\n\n\n```python\nnum = 5;\nmod = num % 2;\nif mod > 0:\n\tprint(num, 'is an odd number');\nelse:\n\tprint(num, 'is an even number');\n```\n\n2.  *Given a list of numbers( numList) find all the numbers in the list which are less than 10 and put them in a  new list ( newList )*\n\n```python\nnumList = [1,12,5,7,8,9,12,4,8];\nnewList = [];\nfor num in numList:\n\tif num < 10:\n\t    print(num);\n\t    newList.append(num);\nprint(newList);\n\n```\n\n3.  *Write a program to determine if a given word is a palindrome*\n\n```python\nword = 'abc'\nletters = list(word)\nis_palindrome = True\nfor letter in letters:\n    if letter == letters[-1]:\n\t    letters.pop(-1)\n    else:\n\t    is_palindrome = False\n\t    break;\nprint(is_palindrome)\n```\n4. *Write a python program to sum all the items in a list*\n\n\n\n5. *Write a python program to merge two lists into a dict*\n\n\t*Example :*\n\t```python\n\tfruits = [‘oranges‘, ‘apples’,’peaches’]\n\tquantity = [’12,14,15’]\n\tresult = {‘oranges’:12,’apples’:14,’peaches’:15}```\n\n6. *Write a python program to determine if a given number is a prime number*\n"
    },
    {
      "metadata": {},
      "cell_type": "markdown",
      "source": "\n7. *Create a function to convert height given in feet to inches ( 1 ft = 12 in )*\n\n```python\n#Define the function convert_height\ndef convert_height(height_in_feet):\n\theight_in_inches = height_in_feet * 12\n\treturn height_in_inches\n\n#Call function\nheight_in_inches = convert_height(7)\n\n#Print the result\nprint(\"Height in inches : \", height_in_inches)\n```\n\n8. *Write a program to accept multiple lines using input*\n\n\n9. *Create a function to accept two strings and print the string created by concatenating the two*\n\n\n10. *Write a program to generate the Fibonacci sequence of 10 numbers*\n\n\n11. *Password strength checker : Create a function to accept a string  and verify if it conforms to the following format – between 8 to 12 characters long, atleast 1 upper case character, atleast 1 number and 1 special character which can be one of ’@,#,$,% or &’*\n"
    },
    {
      "metadata": {},
      "cell_type": "markdown",
      "source": "12) Install the Wikipedia module from PyPi and recreate the examples on the PyPi page"
    },
    {
      "metadata": {
        "trusted": true
      },
      "cell_type": "code",
      "source": "",
      "execution_count": null,
      "outputs": []
    }
  ],
  "metadata": {
    "kernelspec": {
      "name": "python36",
      "display_name": "Python 3.6",
      "language": "python"
    },
    "language_info": {
      "mimetype": "text/x-python",
      "nbconvert_exporter": "python",
      "name": "python",
      "pygments_lexer": "ipython3",
      "version": "3.6.6",
      "file_extension": ".py",
      "codemirror_mode": {
        "version": 3,
        "name": "ipython"
      }
    }
  },
  "nbformat": 4,
  "nbformat_minor": 1
}