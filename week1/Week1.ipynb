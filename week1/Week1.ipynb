{
  "cells": [
    {
      "metadata": {
        "collapsed": true
      },
      "cell_type": "markdown",
      "source": "# 1. The Basics"
    },
    {
      "metadata": {},
      "cell_type": "markdown",
      "source": "## The Print Statement\n\n\nprint in python a function to write something to the console or terminal window where the command is being executed\n\nUsage :"
    },
    {
      "metadata": {
        "trusted": true
      },
      "cell_type": "code",
      "source": "print(\"something\");",
      "execution_count": null,
      "outputs": []
    },
    {
      "metadata": {},
      "cell_type": "markdown",
      "source": "* Something could be any data type\n\n* Strings within quotes will be printed\n\n* Numbers do not have to be in quotes"
    },
    {
      "metadata": {},
      "cell_type": "markdown",
      "source": "## Comments"
    },
    {
      "metadata": {},
      "cell_type": "markdown",
      "source": "* Comment in Python is a text block in the code which will not be executed.\n\n* Comments in Python start with the hash character,#, and extend to the end of the physical line"
    },
    {
      "metadata": {
        "trusted": true
      },
      "cell_type": "code",
      "source": "# this is the first comment",
      "execution_count": null,
      "outputs": []
    },
    {
      "metadata": {
        "trusted": true
      },
      "cell_type": "code",
      "source": "text = \"# This is not a comment because it's inside quotes.\"",
      "execution_count": null,
      "outputs": []
    },
    {
      "metadata": {},
      "cell_type": "markdown",
      "source": "* Multiline comments can be created by triple quoted strings"
    },
    {
      "metadata": {
        "trusted": true
      },
      "cell_type": "code",
      "source": "'''  \nhere is a\n\nMulti line comment\n'''",
      "execution_count": null,
      "outputs": []
    },
    {
      "metadata": {},
      "cell_type": "markdown",
      "source": "# Exercise"
    },
    {
      "metadata": {},
      "cell_type": "markdown",
      "source": "* Print your name"
    },
    {
      "metadata": {
        "trusted": true
      },
      "cell_type": "code",
      "source": "print(\"First Middle Last\");  ",
      "execution_count": null,
      "outputs": []
    },
    {
      "metadata": {},
      "cell_type": "markdown",
      "source": "----------------------------\n* Print the current year"
    },
    {
      "metadata": {
        "trusted": true
      },
      "cell_type": "code",
      "source": " print(2017);",
      "execution_count": null,
      "outputs": []
    },
    {
      "metadata": {},
      "cell_type": "markdown",
      "source": "----------------\n* Print todays full date"
    },
    {
      "metadata": {
        "trusted": true
      },
      "cell_type": "code",
      "source": "print(\"07/21/2018\");",
      "execution_count": null,
      "outputs": []
    },
    {
      "metadata": {},
      "cell_type": "markdown",
      "source": "________"
    },
    {
      "metadata": {},
      "cell_type": "markdown",
      "source": "# 2. Variables"
    },
    {
      "metadata": {},
      "cell_type": "markdown",
      "source": "* A variable is a symbolic name for (or reference to) information\n\n* They are called variables because the represented information can change"
    },
    {
      "metadata": {
        "trusted": true
      },
      "cell_type": "code",
      "source": "#Example \n\nheight_in_inches = 6;\n\nheight_in_inches = 5.8;\n\nheight_in_centimeters = height_in_inches * 2.54;\n\nprint(height_in_centimeters)",
      "execution_count": null,
      "outputs": []
    },
    {
      "metadata": {},
      "cell_type": "markdown",
      "source": "## Exercises"
    },
    {
      "metadata": {},
      "cell_type": "markdown",
      "source": "1. Create a height variable\n\n```python\n    height_in_inches = 6;\n```\n2. Print height_in_inches variable\n\n```python\n\n    print(height_in_inches);  \n```\n3. Create a formula to convert height in inches to height in centimeters\n\n\n```python\n\n   height_in_centimeters = height_in_inches * 2.54;\n   ``` \n \n\n4. Print the height in centimeters\n\n```python\n\n    print(height_in_centimeters)\n    \n```\n\n5. Create variable to hold name of the training class\n\n```python\n\n    class_name = “Python”;\n```\n\n6. *Create variable to hold todays date*\n\n```python\n\n    todays_date = “07/29/2017”\n```\n\n7. *Create variables to hold number of students*\n\n```python\n\n    no_of_students = 40;\n    \n```\n\n8. *Print the sentence ‘On 07/29/2017, the Python class had 40 students*\n\n```python\n\n    print(“On ” + todays_date + “the Python class had ” + no_of_students + “ students”)\n    \n```"
    },
    {
      "metadata": {},
      "cell_type": "markdown",
      "source": "--------\n# 3. Numbers and Math \n\n\n\n* Do not use quotes to hold numbers\n\n\n\n## Common Math Symbols\n\n\n\n    + Addition\n\n    - Subtraction\n\n    / Division\n\n    * Multiple\n\n    % Modulus\n\n    < Less Than\n\n    > Greater Than\n\n    <= Less Than or Equal to\n\n    >= Greater Than or Equal to\n\n\n\n\n# Types of Numbers :\n\n\n\n* **Integers** – Positive or negative whole numbers ( examples : 10, -10 ).\n* Represented by 'int'\n\n\n* **Long** – Integers of unlimited size ( example : 535633629843L ).\n* Represented by 'long'\n\n\n* **Floats** – Real numbers with a decimal point ( Examples : -123.45E ).\n* Represented by 'float'\n\n\n* **Complex** – Real and imaginary numbers ( Examples : pi – 3.14j )\n* Represented by 'complex'\n\n\n# Booleans\n\n* A boolean data type can only have 2 possible values `True` or `False`\n\n* They can be represented by `1` or `0` . 1 for True and 0 for False\n"
    },
    {
      "metadata": {},
      "cell_type": "markdown",
      "source": "# Exercises\n\n 1. *Calculate and Print the value of 2+3-1-4*\n\n   `print(2+3-1-4);`\n\n2.\t*Determine if is 5 greater than 2*\n\n  `print( 5>2 );`\n\n3.\t*Determine if 2 is greater than equal to 2*\n\n`print(2>=2)`\n\n4. *How much percent is 40% of 200?*\n\n`print(\"How much percent is 40% of 200??\"),(40*200)/100`\n\n5.\t*If x is 250 and y is 700, how much percentage of y is x..?*\n\n```\nx = 250;\ny = 750;\nz = (100 * x ) / y;\nprint(z);\n```\n"
    },
    {
      "metadata": {},
      "cell_type": "markdown",
      "source": "-------"
    },
    {
      "metadata": {},
      "cell_type": "markdown",
      "source": "# 4. Strings\n\n\n* Strings are always enclosed within quotes\n\n* Strings without quotes are considered variables\n\n* Strings can be concatenated using + symbol\n\n\n\n## Sample String Methods\n\n\n* **capitalize** – capitalizes the first letter of the string\n\n\n* **isalnum** - Returns true if string has at least 1 character and all\n* characters are alphanumeric.\n\n\n* **isalpha** - Returns true if string has at least 1 character and all\n* characters are alphabetic\n\n\n* **isdigit** - Returns true if string contains only digits"
    },
    {
      "metadata": {
        "trusted": true
      },
      "cell_type": "code",
      "source": "#Example\ncity = \"plano\"\ncityCapitalize = city.capitalize()\nprint(cityCapitalize)",
      "execution_count": null,
      "outputs": []
    },
    {
      "metadata": {},
      "cell_type": "markdown",
      "source": "## Built in Functions\n\n* **len** – returns the length of the string"
    },
    {
      "metadata": {
        "trusted": true
      },
      "cell_type": "code",
      "source": "#Example\ncity = \"plano\"\ncityLength = len(city)\nprint(cityLength)",
      "execution_count": null,
      "outputs": []
    },
    {
      "metadata": {},
      "cell_type": "markdown",
      "source": "## Exercise\n\n\n1. *Create and print a string to hold a phone number with only numbers*\n\n```\nphone_number = '1276512341';\nprint(phone_number);\n```\n\n2.\t*Verify if the phone number has only numbers*\n\n```\nis_a_number = phone_number.isdigit();\nprint(is_a_number);\n```\n\n3. *Find the number of digits in the phone number*\n\n```\nno_of_digits = len(phone_number);\nprint(no_of_digits);\n```"
    },
    {
      "metadata": {},
      "cell_type": "markdown",
      "source": "# 5. Data Structures - Lists\n\n* List is a collection of 0 or more items or objects.\n\n\n* Square bracket is used to represent a list\n\n\n* Item position numbers are called index\n\n\n* Index starts from 0\n\n**Usage**\n\n> ```[ ]``` – Empty List\n>\n> ```[\"Plano\"]``` – A list of 1 string\n>\n> ```[\"Plano\",\"Frisco\"]``` – a list of 2 strings\n>\n> ```[\"Plano\",\"Frisco\", 75070]``` – a list of 2 strings and a number\n>\n> ```[\"Plano\", \"Frisco\", 75070, [\"Allen\",\"McKinney\"]]``` – a list with a nested\n> list\n\n\n![List](https://github.com/soulzcore/iacc_python_2018/raw/master/week1/images/lists.png)\n\n    colors = [\"red\",\"blue\",\"green\"]\n\n\n"
    },
    {
      "metadata": {
        "trusted": true
      },
      "cell_type": "code",
      "source": "colors = [\"red\",\"blue\",\"green\"]\nprint(colors)",
      "execution_count": null,
      "outputs": []
    },
    {
      "metadata": {},
      "cell_type": "markdown",
      "source": "## **Accessing items in the list :**\n\n    colors[0] -> This will represent “red”\n\n    colors[1] -> This will represent “blue”\n\n    colors[:] -> [\"red\",\"blue\",\"green\"]\n\n    colors[1:2] -> [\"blue\"]\n\n    colors[:1] -> [\"red\"]\n    \n    colors[-1] -> [\"green\"]\n\n\n\n![List Slicing](https://github.com/soulzcore/iacc_python_2018/raw/master/week1/images/listslicing.jpg)\n\n\n> Items can be inserted, removed or replaced in a list using standard\n> methods provided by python\n\n> Python provides built in functions for lists\n\n## Common list methods\n\n> **append** : add to the end of the list\n>\n> **insert** : add at a specific location of the list\n>\n> **pop** : remove and return item from the list\n>\n> **remove** : remove an item from the list\n>\n> **extend** : add list of elements at the end\n>\n> **sort** : sort the list\n>\n> **reverse** : reverse the list\n>\n> **index** : return the lowest index where a item appears\n>\n> **count** : Count the number of times an item appears in the list"
    },
    {
      "metadata": {
        "trusted": true
      },
      "cell_type": "code",
      "source": "#Example\n#Create a list of random numbers\nnums = [5,9,4,3,4]\n#Count the number of times 4 appears in the list\nprint(nums.count(4))\n\n#Reverse the list and print it\nnums.reverse()\nprint(nums)",
      "execution_count": null,
      "outputs": []
    },
    {
      "metadata": {},
      "cell_type": "markdown",
      "source": "## Built in Functions\n\n\n* **len** : Get the number of items in the list\n\n\n* **max** : get the item with the max value\n\n\n* **min** : get the item with the lowest value"
    },
    {
      "metadata": {
        "trusted": true
      },
      "cell_type": "code",
      "source": "#Get the max number in the list\nprint(max(nums))",
      "execution_count": null,
      "outputs": []
    },
    {
      "metadata": {},
      "cell_type": "markdown",
      "source": "## Exercise\n\n\n1.\t*Create a list of major cities cities in the US and name it cityList*\n\n```python\ncityList = [\"New York\",\"Chicago\",\"LA\"]\n```\n\n2.\t*Print cityList*\n\n```python\nprint(cityList)\n```\n\n3.\tPrint the first city from the list\n\n```python\nprint(cityList[0])\n```\n\n4. *Print last city from the list*\n\n```python\nprint(cityList[-1])\n```\n\n5. *Add Houston and Dallas to the list and print the new list*\n\n```python\ncityList.append(\"Houston\");\ncityList.append(\"Dallas\");\nprint cityList;\n```\n6. *Add Boston after LA in the list and print it*\n\n```python\ncityList.insert(3,\"Boston\")\nprint cityList;\n```\n\n7. *Find the rank of Houston in the list*\n\n```python\nprint(cityList.index(\"Houston\"));\n```\n\n8. *Add Toronto to the end of the list and print it*\n\n```python\ncityList.append(\"Toronto\")\nprint cityList;\n```\n\n9. *Totonto is not a city in the US, lets remove it and print the list*\n\n```python\ncityList.remove(\"Toronto\");\nprint cityList;\n```\n\n10.  *Find the number of cities in the list*\n\n```python\nprint(len(cityList))\n```\n\n"
    },
    {
      "metadata": {},
      "cell_type": "markdown",
      "source": "# 6. Dictionaries\n\n\n\n\n\n> Dictionary is a collection of 0 or more items.\n\n> Each item concists of a unique key and a corresponding value\n> separated by a colon\n>\n> Example : ```'state':'Texas'```\n\n> Set of braces are used to represent a dictionary\n>\n> ```{ }``` – Empty Dict or Dictionary\n\n> ```{'state':'Texas', 'city':'Plano'}``` – Two items or two key value pairs  \n>\n>``` {'state':'Texas', 'city':'Plano', 'seasons':['Summer','Spring']}```– a dict of 3 items where the last value is a list\n\n\n\n![\n](https://github.com/soulzcore/iacc_python_2018/raw/master/week1/images/dict1.png)\n\n    sample = {'a':'alpha','b':'omega','g':'gamma'}  "
    },
    {
      "metadata": {
        "trusted": true
      },
      "cell_type": "code",
      "source": "sample = {'a':'alpha','b':'omega','g':'gamma'}  \nprint(sample)",
      "execution_count": null,
      "outputs": []
    },
    {
      "metadata": {},
      "cell_type": "markdown",
      "source": "**Accessing items in the dict**\n\n> ```Sample['a']``` -> This will return the value ‘alpha’\n>\n> ```Sample['d'] = \"delta\"``` -> This will add 'd':'delta to the dict'\n\n**Common dict methods**\n\n> ```clear``` : remove all elements from the dict\n>\n> ```keys``` :returns a list of keys in the dict\n>\n> ```values``` : returns a list of values in the dict"
    },
    {
      "metadata": {
        "trusted": true
      },
      "cell_type": "code",
      "source": "#Example\nsample = {'a':'alpha','b':'omega','g':'gamma'}  \nvalues = sample.values()\nprint(values)",
      "execution_count": null,
      "outputs": []
    },
    {
      "metadata": {},
      "cell_type": "markdown",
      "source": "**Functions**\n\n> ```len``` : Get the number of items in the dict\n>\n> ```str``` : get the string representation of the dict"
    },
    {
      "metadata": {
        "trusted": true
      },
      "cell_type": "code",
      "source": "#Example\ndictLength = len(sample)\nprint(dictLength)",
      "execution_count": null,
      "outputs": []
    },
    {
      "metadata": {},
      "cell_type": "markdown",
      "source": "## Exercise\n\n\n1. *Create a dictionary of a restaurant menu with 3 items as keys and their prices as values*\n\n```python\nmenu = {\"Cheese Burger\" : 10, \"Caesar Salad\" : \"8\", \"Fries\" : 3.25}\n```\n\n2.  *Print the menu*\n\n```python\nprint(menu)\n```\n\n3. *Print the price of a Cheese Burger*\n\n```python\nprint(menu['Cheese Burger'])\n```\n\n4. *Print all items in the menu*\n\n```python\nprint(menu.keys())\n```\n\n5. *Does the restaurant have ‘Lemonade’ in the menu..?*\n\n```python\nprint('Fries' in menu)\n```\n\n6. *How many items are in the menu*\n\n```python\nprint(len(menu));\n```\n\n7. *Add ‘Lemonade’ to the menu and set the price to 2.5*\n\n```python\nmenu['Lemonade'] = 2.25;\n```\n\n8. *Update the price of ‘Cheese Burger’ to 9*\n\n```python\nmenu['Cheese Burger'] = 9;\n```\n\n9. *Print the new menu*\n\n```python\nprint(menu);\n```"
    },
    {
      "metadata": {
        "trusted": true
      },
      "cell_type": "markdown",
      "source": "# 7. Sets & Tuples\n\n# Sets\n\n\n> Set is a collection very similar to lists but with no duplicate items.\n\n> Braces are used to represent a set\n\n> ```Set()``` -> creates a new empty set\n>\n\n> ```{‘apple’,’orange’}``` – set of 2 unique items\n>\n> Set supports almost all methods and functions we discussed in Lists\n\n\n\n# Tuples\n\n\n\n> Tuples are also similar to Lists but they cannot be updated or\n> changed unlike Lists.\n>\n> Parenthesis are used to represent tuples\n>\n> ```()``` -> empty tuple\n>\n> ```(‘python’)``` -> A single element tuple\n>\n>``` (‘python’,’java’, ‘dotNet’)``` -> Tupel with 3 items\n\n> Tuples supports all  functions from Lists but any method which update\n> or change the List like append, pop etc.."
    },
    {
      "metadata": {},
      "cell_type": "markdown",
      "source": "# 8. Conditional Operators\n\n# Conditional Statements\n\n> Conditional statememnts are used to alter the behaviour of the program based on certain conditions.\n\n\n```    \n    if expression:\n\t    \"Execute this if expression  is true\"\n    else:\n\t    \"Execute this if expression is false\"\n```\n\n ```  \n\n    if expression a  :\n\t    \"Execute this if expression a  is true\"\n    elif expression b :\n\t\t   \"Execute this if expression b is true\"\n    elif expression c :\n\t\t   \"Execute this if expression c is true\"\n    else :\n\t\t    \"Execute this if none of the above a, b or c are true\"\n```\n\n![\n](https://github.com/soulzcore/iacc_python_2018/raw/master/week1/images/ifelse.png)\n\n\n\n## Logical Operators\n\n\n> ```x or y```  Evaluates to True if either x or y is True, False if both x and y are False\n>\n> ```x and y```  Evaluates to True if both x and y are Tue, else False\n>\n> ```not x```  if x is false, then True, else False\n"
    },
    {
      "metadata": {
        "trusted": true
      },
      "cell_type": "code",
      "source": "#Example\nif 10 > 9:\n    print('10 is greater than 9')\nelse:\n    print('10 is less than 9')",
      "execution_count": null,
      "outputs": []
    },
    {
      "metadata": {
        "trusted": true
      },
      "cell_type": "code",
      "source": "#Example\nx = 5;\ny=10\nif x > y:\n    print(x, ' is greater than ', y);\nelif x<y:\n    print(x, ' is less than ', y);\nelse:\n    print(x, ' is equal to ', y);",
      "execution_count": null,
      "outputs": []
    },
    {
      "metadata": {},
      "cell_type": "markdown",
      "source": "# 9. Flow Control - Loops\n\n\n\n## While Loop\n\n\n> Repeats a group of statements while a given condition is TRUE.\n> It tests the condition before executing the loop body.\n\n![\n](https://github.com/soulzcore/iacc_python_2018/raw/master/week1/images/loops.png)\n\n\n## Usage\n\n\n```python\nwhile expression:\n\tstatements;\nelse:\n\tThis is executed if expression becomes false. \n```"
    },
    {
      "metadata": {
        "trusted": true
      },
      "cell_type": "code",
      "source": "#Example\ncount = 0\nwhile count < 5:\n    print(count)\n    count = count + 1",
      "execution_count": null,
      "outputs": []
    },
    {
      "metadata": {},
      "cell_type": "markdown",
      "source": "## For Loop\n\n> Repeats or iterate over the items of any sequence, such as a list or a\n> string.\n\n![\n](https://github.com/soulzcore/iacc_python_2018/raw/master/week1/images/loops2.png)\n\n## Usage\n\n\n```python\nfor item in list:\n\tstatements;\nelse:\n\tThis is executed if list runs out of items;\n```"
    },
    {
      "metadata": {
        "trusted": true
      },
      "cell_type": "code",
      "source": "#Example\nnumList = [0,1,2,3,4];\nfor num in numList:\n    print(num);",
      "execution_count": null,
      "outputs": []
    },
    {
      "metadata": {
        "trusted": true
      },
      "cell_type": "markdown",
      "source": "# 10. Functions\n\n> Function is a block or unit of code that can be reused.\n> Functions often perform a single action.\n> Python comes packaged with a lot of\n> functions which are called in built functions.\n> Functions created by the user are called user defined functions.\n>\n\n> Functions begin with the keyword **def** followed by the function name\n> and end with  parentheses ( ) followed by the statements which are\n> executed when the function is called.\n> The code block is always indented.\n\n**Usage**\n\n```python\n#Defining function called custom_function_name\ndef custom_function_name():\n\t'Statement 1'\n\t'Statement 2'\n\t'Statement 3'\n```"
    },
    {
      "metadata": {
        "trusted": true
      },
      "cell_type": "code",
      "source": "#Example\ndef add_numbers():\n    x = 4;\n    y = 5;\n    sum = x + y;\n    print(sum)",
      "execution_count": null,
      "outputs": []
    },
    {
      "metadata": {},
      "cell_type": "markdown",
      "source": "> Functions can be executed or called via the functions name after they\n> are defined."
    },
    {
      "metadata": {
        "trusted": true
      },
      "cell_type": "code",
      "source": "#Calling thr add_numbers function\nadd_numbers()",
      "execution_count": null,
      "outputs": []
    },
    {
      "metadata": {},
      "cell_type": "markdown",
      "source": "**Arguments**\n\n> Functions can accept multiple input parameters( arguments ) which can be passed as \n> comma separated values within the parenthesis after the function name.\n> The arguments can be used as variables within the function’s definition\n>The arguments can be of any type\n\n**Usage**\n```python\n#Defining function named functionname\ndef functionname(arg1,arg2,arg3):\n\t\"statement1\"\n\t\"statement2\"\n\n#Calling finctioname\nfunctionname(‘value1’,value2,[1,2,3])\n\n```"
    },
    {
      "metadata": {
        "trusted": true
      },
      "cell_type": "code",
      "source": "#Example\ndef add_numbers(x , y):\n    sum = x + y;\n    return sum\n\nadd_numbers(4,5)",
      "execution_count": null,
      "outputs": []
    },
    {
      "metadata": {},
      "cell_type": "markdown",
      "source": "**Return Values**\n\n> Functions can return values back to the statement from where the\n> function is called.\n> The values returned can be of any type including `None`\n> The keyword `return` is used for returning values\n\n**Usage**\n\n```python\n#Defining function named functionname\ndef functionname(arg1,arg2,arg3):\n    \"statement1\"\n    \"statement2\"\n    return \"value\";\n\n#Calling functioname, the result of the statement below will be same as 'value' which was returned in the function\nresult = functionname('value1',value2,[1,2,3])\n\n```"
    },
    {
      "metadata": {},
      "cell_type": "markdown",
      "source": "# Variable Scope\n\n**Local Variables**\n\n> Variables defined within the function block are called local variables\n> and they can be accessed only within the function\n\n**Global Variables**\n\n> Variables defined outside functions are called global variables and\n> they can be accessed throughout the python and from within functions."
    },
    {
      "metadata": {
        "trusted": true
      },
      "cell_type": "code",
      "source": "#Example\n#y is a global variable\ny = 5\ndef add_numbers() :\n   #x is a local variable\n   x = 4\n   sum = x + y;\n   print( sum )\nadd_numbers()",
      "execution_count": null,
      "outputs": []
    },
    {
      "metadata": {
        "trusted": true
      },
      "cell_type": "code",
      "source": "#This will throw an error\nprint(x)",
      "execution_count": null,
      "outputs": []
    },
    {
      "metadata": {},
      "cell_type": "markdown",
      "source": "# Built in Function - Input\n\n**Providing input via the console**\n\n> Input is a Python built in function\n\n>It presents a prompt to the user during runtime, gets input from\n> the user and presents it to the program as a string.\n\n**Usage**\n\n```python\ninput('What is your name? >> ')\n```\n\n> When this statement is executed, you would notice the string ‘What is\n> your name? >> ‘ appear on the console.\n\n> If you click or press any key, a cursor will show up.\n \n> Now, the console is ready to accept your input.\n\n> Enter any string and hit the ENTER key.\n \n> This will signal the console to pass on your input to the program or\n> more specifically the input statement\n\n> The input statement can be assigned to a variable.\n\n> After the input executes, it will result in the variable being\n> assigned the value which was entered via the console\n\n> The variable can be used just like any other variable in python.\n"
    },
    {
      "metadata": {
        "trusted": true
      },
      "cell_type": "code",
      "source": "#Example\nname = input('What is your name? >> ');\nprint(name);",
      "execution_count": null,
      "outputs": []
    },
    {
      "metadata": {},
      "cell_type": "markdown",
      "source": "# Recursive Functions\n\n> Recursive functions are functions which call themselves\n\n> Make sure there is some sort of exit condition to prevent getting\n> into an infinite loop"
    },
    {
      "metadata": {
        "trusted": true
      },
      "cell_type": "code",
      "source": "#Example\n#Define a function\ndef calculateFactorial(n):\n\n    #Check to see if the number is 1 and return 1, since 1! is always 1\n    if n == 1:\n        return 1\n\n    #If the number passed to the function is not 1, calculate (n-1)! and multiple it to the number\n    else:\n        return n * calculateFactorial(n - 1)\n\n#Calculate the factorial of 3\nfactorial = calculateFactorial(5)\nprint(factorial)",
      "execution_count": null,
      "outputs": []
    },
    {
      "metadata": {},
      "cell_type": "markdown",
      "source": "# Modules\n\n> Modules are python files which can be reused ( think how functions\n> are reused )\n\n> Modules can be imported into other python files and the functions/\n> variables defined in the modules can be reused in the code\n\n> Python provides many built in modules\n\n\n**Usage**\n```python\n#testModule.py file\n#Defining function named functionname\ndef functionname(arg1,arg2,arg3):\n\t\"statement1\"\n\t\"statement2\"\n\treturn \"value\";\n```\n\n```python\n#New python file\n#newFile.py\nimport testModule;\n\ntestModule.functionname('value1',value2,[1,2,3])\n\n```"
    },
    {
      "metadata": {
        "trusted": true
      },
      "cell_type": "code",
      "source": "#Example\n#import the time module\nimport time as dt\n\n#print current time\nprint(dt.strftime(\"%c\"))\n\n#Tell the program to sleep for 10 seconds\ndt.sleep(10)\n\n#Execution from here will be resumed after 10 seconds\nprint(dt.strftime(\"%c\"))",
      "execution_count": null,
      "outputs": []
    },
    {
      "metadata": {},
      "cell_type": "markdown",
      "source": "**PyPi**\n\n> PyPi or Python Package Index is an publicly available online\n> repository of packages or modules\n\n> Most of the modules are free to use\n\n> Users can create and upload their own modules\n\n> PIP is a command line tool to install modules from PyPi\n\n> Modules can be installed manually without PyPi\n\n**Example – Install USZipCode module using pip**\n\n>Link : https://pypi.python.org/pypi/uszipcode#install\n\n>Open command prompt/terninal and type :\n\n```pip install uszipcode ```\n\n> Or in a Jupyter notebook run the following command in a new cell\n\n``` !pip install uszipcode ```"
    },
    {
      "metadata": {
        "trusted": true
      },
      "cell_type": "code",
      "source": "!pip install uszipcode",
      "execution_count": null,
      "outputs": []
    },
    {
      "metadata": {},
      "cell_type": "markdown",
      "source": ">After installation is successful you can import the package and use it in your code :"
    },
    {
      "metadata": {
        "trusted": true
      },
      "cell_type": "code",
      "source": "#import SearchEngine function from uszipcode module\nfrom uszipcode import SearchEngine\n\nsearch = SearchEngine()\nzipcode = search.by_zipcode(\"75035\")\nprint(zipcode)",
      "execution_count": null,
      "outputs": []
    },
    {
      "metadata": {},
      "cell_type": "markdown",
      "source": "-----\n\n# 12. Exceptions\n\n> Exceptions are errors generated while the python program is\n> executing.\n\n> Exceptions usually throw an error\n\n> Exceptions stop the program from further execution\n\n\n\n**Example**\n\n```python\nprint('2' + 2);\n```\nRunning the code above return the following error :\n\n\n    TypeError: cannot concatenate 'str' and 'int' objects\n\n"
    },
    {
      "metadata": {
        "trusted": true
      },
      "cell_type": "code",
      "source": "print('2' + 2);",
      "execution_count": null,
      "outputs": []
    },
    {
      "metadata": {},
      "cell_type": "markdown",
      "source": "> There are different types of exceptions.\n\n> In the example provided it is ‘TypeError’\n\n> Exceptions can be built in or user defined exceptions\n\n**Some Built in Exceptions**\n\n> **ImportError**\n>\n> **IndexError**\n>\n> **KeyError**\n>\n> **NameError**\n>\n> **TypeError**\n>\n> **ZeroDivisionError**\n\n\n# Exception Handling\n\n> The technique used to deal with exceptions that can potentially\n> terminate the execution of the program is called Exception Handling\n\n> Exception Handling is used to guard against exceptions and also to\n> provide an alternative way for the code to continue execution\n\n> If you suspect that a piece of code has a possibility of throwing an\n> exception and would like to take an action if an exception is thrown,\n> enclose the code within a try block and the subsequent action to take\n> will go in an except block ( think if – else statements )\n\n**Basic Usage**\n\n```python\n#Enclose code which might raise an exception in a try block\n\ntry:\n\t\"some statements here\";\n\t\"more statements here\";\n\n#Except block will be executed when any statement within the try block raises an exception\n\nexcept:\n\t\"do something\";\n\t\"something else\";\n\n```\n\n\n**Full Usage**\n\n```python\n#Enclose code which might raise an exception in a try block\n\ntry:\n\t\"some statements here\";\n\t\"more statements here\";\n\n#Except block to handle certain type of exceptions, in this case TypeError\n\nExcept TypeError:\n\t\"do something if it’s a TypeError\";\n\n#Except block to handle IndexError\n\nExcept IndexError:\n\t\"do something if it’s a IndexError\";\n\n#Except block to handle exceptions which are neither TypeError or IndexError\n\nExcept:\n\t\"do something if its neither a TypeError or IndexError\";\n\n#The Else block will be executed if no exceptions are raised and the try block executes successfully\n\nElse:\n\t\"do this if there were no exceptions raised\";\n\n#The finally block executes in all cases – with or without exceptions\n\nFinally:\n\t\"do this no matter what happens\";\n\n```"
    },
    {
      "metadata": {
        "trusted": true
      },
      "cell_type": "code",
      "source": "#Example\nvar = input('Enter a random number >>> ');\n\n\ndef div(var):\n    print(10 * (1 / int(var)));\n\n\ndef prnt(var_name):\n    print(4 + var_name * 3);\n\n\ndef add(var):\n    print(var + 2);\n\n\ntry:\n    div(var)\n    prnt(var)\n    add(var)\n\nexcept ZeroDivisionError:\n    print(\"Error : Somebody tried to divide by 0\")\n\nexcept NameError:\n    print(\"Error : Variable does not exist\")\n\nexcept TypeError:\n    print(\"Error : Somebody is trying to add a number and a string!\")\n\nexcept:\n    print(\"Error : Something got messed up and I am not sure what!\")\n\nelse:\n    print(\"All statements were successful\")\n\nfinally:\n    print(\"I will always be here!\")\n",
      "execution_count": null,
      "outputs": []
    },
    {
      "metadata": {},
      "cell_type": "markdown",
      "source": "# Raising Exceptions\n\n> The exceptions we have worked in the last few slides were generated\n> by Python\n>\n> The developer can programmatically raise exceptions as well\n>\n> Exceptions raised by the developer can be the standard exceptions\n> provided by python or can be user defined exceptions\n>\n> Example : The developer would like to raise an exception if a certain\n> condition is not met.\n\n**Usage**\n```python\nIf x > 10 :  \n\traise Exception\n```\n"
    },
    {
      "metadata": {
        "trusted": true
      },
      "cell_type": "code",
      "source": "#Example\ntry:\n    #Throw a Name Error exception\n    raise NameError(\"I am raising a Name Error\")\n\n#Catch the Name Error exception\nexcept NameError:\n    print(\"There was a name error\")",
      "execution_count": null,
      "outputs": []
    },
    {
      "metadata": {},
      "cell_type": "markdown",
      "source": "# Assertions\n\n> Assertions are checks you can put in place to test some conditions\n\n> These are very similar to if conditions\n\n> Assertions can be used for testing and debugging purposes\n\n> Assertions can be used to check validity of input and output of a\n> function\n\n> An Exception is thrown if the assert statement is not satisfied\n\n**Usage**\n\n```python\nassert SomeCondition, \"fail message\"\n```"
    },
    {
      "metadata": {
        "trusted": true
      },
      "cell_type": "code",
      "source": "#Example\n#This is an assertion\nassert 2 + 2 == 5, 'No, 2 plus 2 is not equal to 5'",
      "execution_count": null,
      "outputs": []
    }
  ],
  "metadata": {
    "kernelspec": {
      "name": "python36",
      "display_name": "Python 3.6",
      "language": "python"
    },
    "language_info": {
      "mimetype": "text/x-python",
      "nbconvert_exporter": "python",
      "name": "python",
      "pygments_lexer": "ipython3",
      "version": "3.6.6",
      "file_extension": ".py",
      "codemirror_mode": {
        "version": 3,
        "name": "ipython"
      }
    }
  },
  "nbformat": 4,
  "nbformat_minor": 2
}