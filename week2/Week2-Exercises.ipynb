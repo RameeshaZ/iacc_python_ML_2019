{
  "cells": [
    {
      "metadata": {},
      "cell_type": "markdown",
      "source": "# Exercises\n\n1) **Write a python program to create dogs from a dog class and count the number of dogs created**\n\n```python\n\n#Create class dog, this can be used to create multiple dog objects\nclass Dog:\n    'This class represents a dog'\n    #Class variable or attribute name to hold the dogs name\n    breed = 'Bulldog'\n    no_of_dogs = 0\n\n    #Creating a constructor which will be called everytime a new object is created\n    def __init__(self,name):\n        print('Dog Object created')\n        self.name = name\n        Dog.no_of_dogs = Dog.no_of_dogs + 1\n\n\n\n#Assert if no dog instances created\nassert Dog.no_of_dogs == 0, 'Number of dogs are not 0'\n\n#Create dog1\ndog1 = Dog('Buddy')\n#print no of dogs, should be 1\nprint('Number of dogs :', Dog.no_of_dogs)\n\ndog2 = Dog('Bella')\n#print no of dogs, should be 2\nprint('Number of dogs :', Dog.no_of_dogs)\n\ndog3 = Dog('Max')\n#print no of dogs, should be 3\nprint('Number of dogs :', Dog.no_of_dogs)\n\n\n```\n\n2) **Create a class to define a car with the following :**\n - **The class should have atleast 1 class variable ( think of an    attribute which remains the same across all cars )**\n-  **A car should require the attributes 'Make,Model,Year,Color, Engine'**\n- **Create a method ‘start’ to start the car. When the method is called, the car’s ‘status’ attribute should be ‘ON’**\n- **Create a method ‘accelerate’, which should take the argument speed. When the method is called the attribute ‘speed’ should    increase by the specified speed passed to the method**\n- **Create a method ‘decelerate’, which should take the argument speed. When the method is called the attribute ‘speed’ should    decrease by the specified speed passed to the method**\n- **Create a method ‘break’. When called the speed attribute should become 0**\n- **Create a method ‘Off’. When called the car’s ‘status’ attribute should become 'OFF'**\n\n**Rules to implement ( make use of try, except or if else statements ) :**\n- **The car cant be started if its already ON**\n- **The car cant accelerate, decelerate, break or turned OFF if its not ON**\n- **Maximum speed of the car is 130**\n- **The car cant decelerate if the speed is 0**"
    },
    {
      "metadata": {
        "trusted": true
      },
      "cell_type": "code",
      "source": "",
      "execution_count": null,
      "outputs": []
    }
  ],
  "metadata": {
    "kernelspec": {
      "name": "python36",
      "display_name": "Python 3.6",
      "language": "python"
    },
    "language_info": {
      "mimetype": "text/x-python",
      "nbconvert_exporter": "python",
      "name": "python",
      "pygments_lexer": "ipython3",
      "version": "3.6.6",
      "file_extension": ".py",
      "codemirror_mode": {
        "version": 3,
        "name": "ipython"
      }
    }
  },
  "nbformat": 4,
  "nbformat_minor": 1
}